{
 "cells": [
  {
   "cell_type": "markdown",
   "metadata": {},
   "source": [
    "## Problem Background:\n",
    "* Machine learning techniques are a primary tool for analyzing network traffic and detecting cybersecurity attacks.\n",
    "* The National Institute of Standards in Technology reported that in 2017, American companies lost 65.6 billion dollars from IT attacks [1].\n",
    "* Security industry is dependent on costly handling of enormous datasets that is done by hand.\n",
    "    * Most of today’s machine-learning approaches rely on “anomaly detection,” which tends to trigger false positives\n",
    "* Therefore, a solution for identifying malicious attacks through a more efficient, effective and lower cost method is greatly needed.\n",
    "\n",
    "## NSL-KDD Dataset:\n",
    "* Improved version of the KDD Cup 1999 Dataset\n",
    "* Does not include the redundant records in the KDD'99 train set\n",
    "* The classifiers will not be biased towards more frequent records\n",
    "* The number of records in the train and test sets are reasonable\n",
    "* No need to randomly select a small portion\n",
    "* Consists of 1,074,992 distinct records, each of which contains 41 features and is labeled as either normal or as one of four attack types:\n",
    "    * **Denial of Service Attack (DoS):** denies legitimate users or requests for a machine\n",
    "    * **User to Root Attack (U2R):** exploits some vulnerability to gain root access to the system\n",
    "    * **Remote to Local Attack (R2L):** the attacker has the ability to send packets to a machine over a network but does not have an account on that machine and exploits some vulnerability to gain local access as a user of that machine\n",
    "    * **Probing Attack:** gathers information about a network of computers for the purpose of circumventing security controls   \n",
    "    \n",
    "    <br />\n",
    "\n",
    "* The KDD dataset has three types of features:\n",
    "    * **Basic Features:** all the attributes that can be extracted from a TCP/IP connection, most of which lead to an implicit delay in detection\n",
    "    * **Trafﬁc Features:** features that are computed with respect to a window interval, divided into two groups:\n",
    "        * \"Same Host” features: examine only the connections in the past 2 seconds that have the same destination host as the current connection, also calculate statistics related to protocol behavior, service, etc.\n",
    "        * \"Same Service” features: examine only the connections in the past 2 seconds that have the same service as the current connection\n",
    "    * **Content Features:** features to be able to look for suspicious behavior in the data portion of the packets (R2L and U2R), e.g., number of failed login attempts\n",
    "\n",
    "## Approach\n",
    "* What have people already done?\n",
    "    * AI², which incorporates expert input in a system that combines supervised and unsupervised learning to detect 85% of attacks [2].\n",
    "    * Chowdhury, et al. displays network information as a graph and automatically identify botnet attack by using clustering algorithms.\n",
    "    \n",
    "* What is new in your approach?\n",
    "    * We will develop our project while holding an unbiased and purely educational perspective. We are not a company with any stake and we are not competing in the competition, so we aren't trying to solve the problem.\n",
    "\n",
    "* Why do you think you approach can effectively solve the problem?\n",
    "    * Our goal is purely specific to this data set, so we can take shortcuts and make assumptions\n"
   ]
  },
  {
   "cell_type": "markdown",
   "metadata": {},
   "source": [
    "## Part 1: General\n",
    "Our goals for this section were to:\n",
    "1. Explore the dataset\n",
    "2. Establish a baseline for how well we can classify with minimal modifications"
   ]
  },
  {
   "cell_type": "code",
   "execution_count": 56,
   "metadata": {
    "collapsed": false
   },
   "outputs": [],
   "source": [
    "import pandas as pd\n",
    "import numpy as np\n",
    "from sklearn.naive_bayes import GaussianNB\n",
    "from sklearn.linear_model import LogisticRegression\n",
    "from sklearn.tree import DecisionTreeClassifier\n",
    "from sklearn.neighbors import KNeighborsClassifier\n",
    "from sklearn.ensemble import AdaBoostClassifier\n",
    "from sklearn.ensemble import RandomForestClassifier\n",
    "from sklearn import svm\n",
    "import sklearn\n",
    "from sklearn.preprocessing import Normalizer\n",
    "import matplotlib.pyplot as plt\n",
    "import seaborn as sns\n",
    "from sklearn.metrics import accuracy_score, mean_squared_error, mean_absolute_error \n",
    "from sklearn.model_selection import train_test_split\n",
    "from xgboost import XGBClassifier"
   ]
  },
  {
   "cell_type": "code",
   "execution_count": 4,
   "metadata": {
    "collapsed": true
   },
   "outputs": [],
   "source": [
    "traindata = pd.read_csv('NSL-KDD/KDDTrain+.csv', header=None)"
   ]
  },
  {
   "cell_type": "code",
   "execution_count": 5,
   "metadata": {
    "collapsed": false
   },
   "outputs": [
    {
     "name": "stdout",
     "output_type": "stream",
     "text": [
      "['normal' 'neptune' 'warezclient' 'ipsweep' 'portsweep' 'teardrop' 'nmap'\n",
      " 'satan' 'smurf' 'pod' 'back' 'guess_passwd' 'ftp_write' 'multihop'\n",
      " 'rootkit' 'buffer_overflow' 'imap' 'warezmaster' 'phf' 'land' 'loadmodule'\n",
      " 'spy' 'perl']\n"
     ]
    },
    {
     "data": {
      "text/plain": [
       "<matplotlib.axes._subplots.AxesSubplot at 0x120421470>"
      ]
     },
     "execution_count": 5,
     "metadata": {},
     "output_type": "execute_result"
    },
    {
     "data": {
      "image/png": "[encoded data removed]",
      "text/plain": [
       "<matplotlib.figure.Figure at 0x115048cf8>"
      ]
     },
     "metadata": {
      "needs_background": "light"
     },
     "output_type": "display_data"
    }
   ],
   "source": [
    "print(traindata[41].unique())\n",
    "label_map = dict(zip(traindata[41].unique(), range(len(traindata[41].unique()))))\n",
    "a = traindata.replace(label_map)\n",
    "a[41].hist()"
   ]
  },
  {
   "cell_type": "code",
   "execution_count": 10,
   "metadata": {
    "collapsed": false
   },
   "outputs": [
    {
     "data": {
      "text/plain": [
       "<matplotlib.axes._subplots.AxesSubplot at 0x11e95b4a8>"
      ]
     },
     "execution_count": 10,
     "metadata": {},
     "output_type": "execute_result"
    },
    {
     "data": {
      "image/png": "[encoded data removed]",
      "text/plain": [
       "<matplotlib.figure.Figure at 0x11e961710>"
      ]
     },
     "metadata": {
      "needs_background": "light"
     },
     "output_type": "display_data"
    }
   ],
   "source": [
    "def simplify_label(df):\n",
    "    attack_dict = {\n",
    "        'normal': 'normal',\n",
    "\n",
    "        'back': 'DoS', 'land': 'DoS', 'neptune': 'DoS', 'pod': 'DoS', 'smurf': 'DoS', 'teardrop': 'DoS', \n",
    "        'mailbomb': 'DoS', 'apache2': 'DoS', 'processtable': 'DoS', 'udpstorm': 'DoS',\n",
    "\n",
    "        'ipsweep': 'Probe', 'nmap': 'Probe', 'portsweep': 'Probe', 'satan': 'Probe',\n",
    "        'mscan': 'Probe', 'saint': 'Probe',\n",
    "\n",
    "        'ftp_write': 'R2L', 'guess_passwd': 'R2L', 'imap': 'R2L', 'multihop': 'R2L', 'phf': 'R2L',\n",
    "        'spy': 'R2L', 'warezclient': 'R2L', 'warezmaster': 'R2L', 'sendmail': 'R2L', 'named': 'R2L',\n",
    "        'snmpgetattack': 'R2L', 'snmpguess': 'R2L', 'xlock': 'R2L', 'xsnoop': 'R2L', 'worm': 'R2L',\n",
    "\n",
    "        'buffer_overflow': 'U2R', 'loadmodule': 'U2R', 'perl': 'U2R', 'rootkit': 'U2R',\n",
    "        'httptunnel': 'U2R', 'ps': 'U2R', 'sqlattack': 'U2R','xterm': 'U2R'\n",
    "    }\n",
    "\n",
    "    attack_simp = {}\n",
    "    for a in df[41].unique():\n",
    "        if attack_dict[a] is not None:\n",
    "            attack_simp[a] = attack_dict[a]\n",
    "\n",
    "    df2 = df.replace(attack_simp)\n",
    "    label_map = dict(zip(df2[41].unique(), range(len(df2[41].unique()))))\n",
    "    df2 = df2.replace(label_map)\n",
    "    return df2\n",
    "\n",
    "    \n",
    "traindata = simplify_label(pd.read_csv('NSL-KDD/KDDTrain+.csv', header=None))\n",
    "testdata = simplify_label(pd.read_csv('NSL-KDD/KDDTest+.csv', header=None))\n",
    "traindata[41].hist()\n",
    "testdata[41].hist()"
   ]
  },
  {
   "cell_type": "code",
   "execution_count": 11,
   "metadata": {
    "collapsed": true
   },
   "outputs": [],
   "source": [
    "def encode(df):\n",
    "#     a = df.drop(42, axis=1)\n",
    "    # Feature 42 is undocumented but we chose to leave it in\n",
    "    a = df\n",
    "    protocol_map = dict(zip(df[1].unique(), range(len(df[1].unique()))))\n",
    "    service_map = dict(zip(df[2].unique(), range(len(df[2].unique()))))\n",
    "    flag_map = dict(zip(df[3].unique(), range(len(df[3].unique()))))\n",
    "    # replace the symbolic features\n",
    "    a = a.replace(flag_map)\n",
    "    a = a.replace(protocol_map)\n",
    "    a = a.replace(service_map)\n",
    "    # replace the labels (22 -> 5)\n",
    "    label_map = dict(zip(a[41].unique(), range(len(a[41].unique()))))\n",
    "    a = a.replace(label_map)\n",
    "    return a"
   ]
  },
  {
   "cell_type": "code",
   "execution_count": 12,
   "metadata": {
    "collapsed": false
   },
   "outputs": [],
   "source": [
    "def get_accuracy(train_set, test_set, model):  \n",
    "    X = train_set.iloc[:,0:41].join(train_set.iloc[:,42])\n",
    "    Y = train_set.iloc[:,41]\n",
    "    scaler = Normalizer().fit(X)\n",
    "    trainX = scaler.transform(X)\n",
    "    model.fit(X, Y)\n",
    "    Y_test = test_set.iloc[:,41]\n",
    "    X_test = test_set.iloc[:,0:41].join(test_set.iloc[:,42])\n",
    "    scaler = Normalizer().fit(X_test)\n",
    "    trainX = scaler.transform(X_test)\n",
    "    predicted = model.predict(X_test)\n",
    "    return accuracy_score(Y_test, predicted)"
   ]
  },
  {
   "cell_type": "code",
   "execution_count": 13,
   "metadata": {
    "collapsed": false
   },
   "outputs": [],
   "source": [
    "train = encode(traindata)\n",
    "test = encode(testdata)"
   ]
  },
  {
   "cell_type": "code",
   "execution_count": 14,
   "metadata": {
    "collapsed": false
   },
   "outputs": [],
   "source": [
    "models = [GaussianNB(), DecisionTreeClassifier(), KNeighborsClassifier(), \n",
    "          AdaBoostClassifier(n_estimators=50), AdaBoostClassifier(n_estimators=100), \n",
    "          AdaBoostClassifier(n_estimators=150), RandomForestClassifier(n_estimators=50),\n",
    "          RandomForestClassifier(n_estimators=100), RandomForestClassifier(n_estimators=150)]\n",
    "\n",
    "acc_list = []\n",
    "for m in models:\n",
    "    score = get_accuracy(train, test, m)\n",
    "    acc_list.append(score)"
   ]
  },
  {
   "cell_type": "code",
   "execution_count": 15,
   "metadata": {
    "collapsed": false
   },
   "outputs": [
    {
     "data": {
      "image/png": "[encoded data removed]",
      "text/plain": [
       "<matplotlib.figure.Figure at 0x117859d30>"
      ]
     },
     "metadata": {
      "needs_background": "light"
     },
     "output_type": "display_data"
    }
   ],
   "source": [
    "ind = np.arange(len(acc_list))    # the x locations for the groups\n",
    "width = 0.35       # the width of the bars: can also be len(x) sequence\n",
    "\n",
    "p1 = plt.bar(ind, acc_list, width)\n",
    "\n",
    "plt.ylabel('Accuracy Score')\n",
    "plt.title('Accuracy Score by Model Type')\n",
    "plt.xticks(ind, ('NB', 'D-Tree', 'KNN', 'AB50', 'AB100', 'AB150', 'RF50', 'RF100', 'RF150'))\n",
    "plt.yticks(np.arange(0, 0.4, 0.1))\n",
    "\n",
    "plt.show()\n",
    "# Note: best = 40%, better than random (25%)"
   ]
  },
  {
   "cell_type": "markdown",
   "metadata": {},
   "source": [
    "### Part 1 Takeaway:\n",
    "The AdaBoost classifier was slightly better than randomly selecting a label (25% vs. 20%), however the rest of our models are underperforming."
   ]
  },
  {
   "cell_type": "markdown",
   "metadata": {},
   "source": [
    "## Part 2: Specific\n",
    "* Exploring ways to simplify and boost the accuracy of our best model"
   ]
  },
  {
   "cell_type": "code",
   "execution_count": 17,
   "metadata": {
    "collapsed": false
   },
   "outputs": [],
   "source": [
    "# Isolate only DoS labels\n",
    "def take_DoS(df):\n",
    "    attack_dict = {}\n",
    "    for a in df[41].unique():\n",
    "        attack_dict[a] = False\n",
    "\n",
    "    attack_dict['normal'] = True\n",
    "    attack_dict['back'] = True\n",
    "    attack_dict['land'] = True\n",
    "    attack_dict['neptune'] = True\n",
    "    attack_dict['pod'] = True\n",
    "    attack_dict['smurf'] = True\n",
    "    attack_dict['teardrop'] = True\n",
    "    attack_dict['mailbomb'] = True\n",
    "    attack_dict['apache2'] = True\n",
    "    attack_dict['processtable'] = True\n",
    "    attack_dict['udpstorm'] = True    \n",
    "\n",
    "    a_list = [key for key, value in attack_dict.items() if attack_dict[key] == True]\n",
    "    a = df[df[41].isin(a_list)]\n",
    "    return a"
   ]
  },
  {
   "cell_type": "code",
   "execution_count": 19,
   "metadata": {
    "collapsed": false
   },
   "outputs": [
    {
     "data": {
      "image/png": "[encoded data removed]",
      "text/plain": [
       "<matplotlib.figure.Figure at 0x1196eb780>"
      ]
     },
     "metadata": {
      "needs_background": "light"
     },
     "output_type": "display_data"
    }
   ],
   "source": [
    "traindata = pd.read_csv('NSL-KDD/KDDTrain+.csv', header=None)\n",
    "testdata = pd.read_csv('NSL-KDD/KDDTest+.csv', header=None)\n",
    "train = encode(take_DoS(traindata))\n",
    "test = encode(take_DoS(testdata))\n",
    "train[41].hist()\n",
    "test[41].hist()\n",
    "plt.ylabel('Instances')\n",
    "plt.xlabel('Label Index')\n",
    "plt.title('Label Distribution per Dataset')\n",
    "\n",
    "plt.show()"
   ]
  },
  {
   "cell_type": "code",
   "execution_count": 25,
   "metadata": {
    "collapsed": false
   },
   "outputs": [
    {
     "data": {
      "image/png": "[encoded data removed]",
      "text/plain": [
       "<matplotlib.figure.Figure at 0x11e299fd0>"
      ]
     },
     "metadata": {
      "needs_background": "light"
     },
     "output_type": "display_data"
    }
   ],
   "source": [
    "acc_list = []\n",
    "for m in models:\n",
    "    score = get_accuracy(train, test, m)\n",
    "    acc_list.append(score)\n",
    "    \n",
    "ind = np.arange(len(acc_list))    # the x locations for the groups\n",
    "width = 0.35       # the width of the bars: can also be len(x) sequence\n",
    "\n",
    "p1 = plt.bar(ind, acc_list, width)\n",
    "\n",
    "plt.ylabel('Accuracy Score')\n",
    "plt.title('Accuracy Score by Model Type')\n",
    "plt.xticks(ind, ('NB', 'D-Tree', 'KNN', 'AB50', 'AB100', 'AB150', 'RF50', 'RF100', 'RF150'))\n",
    "plt.yticks(np.arange(0, max(acc_list)+0.1, 0.1))\n",
    "\n",
    "plt.show()\n",
    "# makes sense - 5 labels -> 11 (25% = random vs. 1%)"
   ]
  },
  {
   "cell_type": "code",
   "execution_count": 26,
   "metadata": {
    "collapsed": true
   },
   "outputs": [],
   "source": [
    "# Convert to binary - event or no event\n",
    "def make_binary(df):\n",
    "    binary_dict = {}\n",
    "    for label in df[41].unique():\n",
    "        binary_dict[label] = 0 if label == 'normal' else 1\n",
    "    a = df.replace(binary_dict)\n",
    "    return a"
   ]
  },
  {
   "cell_type": "code",
   "execution_count": 27,
   "metadata": {
    "collapsed": false
   },
   "outputs": [
    {
     "data": {
      "text/plain": [
       "<matplotlib.axes._subplots.AxesSubplot at 0x11e90df60>"
      ]
     },
     "execution_count": 27,
     "metadata": {},
     "output_type": "execute_result"
    },
    {
     "data": {
      "image/png": "[encoded data removed]",
      "text/plain": [
       "<matplotlib.figure.Figure at 0x10827c518>"
      ]
     },
     "metadata": {
      "needs_background": "light"
     },
     "output_type": "display_data"
    }
   ],
   "source": [
    "traindata = pd.read_csv('NSL-KDD/KDDTrain+.csv', header=None)\n",
    "testdata = pd.read_csv('NSL-KDD/KDDTest+.csv', header=None)\n",
    "train = encode(make_binary(traindata))\n",
    "test = encode(make_binary(testdata))\n",
    "train[41].hist()\n",
    "test[41].hist()"
   ]
  },
  {
   "cell_type": "code",
   "execution_count": 28,
   "metadata": {
    "collapsed": false
   },
   "outputs": [],
   "source": [
    "acc_list = []\n",
    "for m in models:\n",
    "    score = get_accuracy(train, test, m)\n",
    "    acc_list.append(score)"
   ]
  },
  {
   "cell_type": "code",
   "execution_count": 29,
   "metadata": {
    "collapsed": false
   },
   "outputs": [
    {
     "data": {
      "image/png": "[encoded data removed]",
      "text/plain": [
       "<matplotlib.figure.Figure at 0x1201c2390>"
      ]
     },
     "metadata": {
      "needs_background": "light"
     },
     "output_type": "display_data"
    }
   ],
   "source": [
    "ind = np.arange(len(acc_list))\n",
    "width = 0.35\n",
    "p1 = plt.bar(ind, acc_list, width)\n",
    "\n",
    "plt.ylabel('Accuracy Score')\n",
    "plt.title('Accuracy Score by Model Type')\n",
    "plt.xticks(ind, ('NB', 'D-Tree', 'KNN', 'AB50', 'AB100', 'AB150', 'RF50', 'RF100', 'RF150'))\n",
    "plt.yticks(np.arange(0, max(acc_list) + 0.1, 0.1))\n",
    "\n",
    "plt.show()\n",
    "# note - random = 50%, we're performing slightly better"
   ]
  },
  {
   "cell_type": "code",
   "execution_count": 30,
   "metadata": {
    "collapsed": false
   },
   "outputs": [],
   "source": [
    "# binary - DoS or no DoS\n",
    "train = encode(make_binary(take_DoS(traindata)))\n",
    "test = encode(make_binary(take_DoS(testdata)))"
   ]
  },
  {
   "cell_type": "code",
   "execution_count": 31,
   "metadata": {
    "collapsed": false
   },
   "outputs": [
    {
     "data": {
      "image/png": "[encoded data removed]",
      "text/plain": [
       "<matplotlib.figure.Figure at 0x11ea9c0b8>"
      ]
     },
     "metadata": {
      "needs_background": "light"
     },
     "output_type": "display_data"
    }
   ],
   "source": [
    "acc_list = []\n",
    "for m in models:\n",
    "    score = get_accuracy(train, test, m)\n",
    "    acc_list.append(score)\n",
    "\n",
    "p1 = plt.bar(ind, acc_list, width)\n",
    "\n",
    "plt.ylabel('Accuracy Score')\n",
    "plt.title('Accuracy Score by Model Type')\n",
    "plt.xticks(ind, ('NB', 'D-Tree', 'KNN', 'AB50', 'AB100', 'AB150', 'RF50', 'RF100', 'RF150'))\n",
    "plt.yticks(np.arange(0, max(acc_list) + 0.1, 0.1))\n",
    "\n",
    "plt.show()\n",
    "# random = 50%, we're getting 60%"
   ]
  },
  {
   "cell_type": "code",
   "execution_count": 33,
   "metadata": {
    "collapsed": true
   },
   "outputs": [],
   "source": [
    "def take_probe(df):\n",
    "    attack_dict = {}\n",
    "    for a in df[41].unique():\n",
    "        attack_dict[a] = False\n",
    "\n",
    "    attack_dict['normal'] = True\n",
    "    attack_dict['ipsweep'] = True\n",
    "    attack_dict['nmap'] = True\n",
    "    attack_dict['portsweep'] = True\n",
    "    attack_dict['satan'] = True\n",
    "    attack_dict['mscan'] = True\n",
    "    attack_dict['saint'] = True  \n",
    "\n",
    "    a_list = [key for key, value in attack_dict.items() if attack_dict[key] == True]\n",
    "    a = df[df[41].isin(a_list)]\n",
    "    return a\n",
    "\n",
    "def take_R2L(df):\n",
    "    attack_dict = {}\n",
    "    for a in df[41].unique():\n",
    "        attack_dict[a] = False\n",
    "\n",
    "    attack_dict['normal'] = True\n",
    "    attack_dict['ftp_write'] = True\n",
    "    attack_dict['guess_passwd'] = True\n",
    "    attack_dict['imap'] = True\n",
    "    attack_dict['multihop'] = True\n",
    "    attack_dict['phf'] = True\n",
    "    attack_dict['spy'] = True  \n",
    "    attack_dict['warezclient'] = True\n",
    "    attack_dict['warezmaster'] = True\n",
    "    attack_dict['sendmail'] = True\n",
    "    attack_dict['named'] = True\n",
    "    attack_dict['snmpgetattack'] = True\n",
    "    attack_dict['snmpguess'] = True\n",
    "    attack_dict['xlock'] = True \n",
    "    attack_dict['xsnoop'] = True\n",
    "    attack_dict['worm'] = True\n",
    "\n",
    "    a_list = [key for key, value in attack_dict.items() if attack_dict[key] == True]\n",
    "    a = df[df[41].isin(a_list)]\n",
    "    return a\n",
    "\n",
    "def take_U2R(df):\n",
    "    attack_dict = {}\n",
    "    for a in df[41].unique():\n",
    "        attack_dict[a] = False\n",
    "\n",
    "    attack_dict['buffer_overflow'] = True\n",
    "    attack_dict['loadmodule'] = True\n",
    "    attack_dict['perl'] = True\n",
    "    attack_dict['rootkit'] = True\n",
    "    attack_dict['httptunnel'] = True\n",
    "    attack_dict['ps'] = True\n",
    "    attack_dict['sqlattack'] = True  \n",
    "    attack_dict['xterm'] = True\n",
    "    attack_dict['normal'] = True\n",
    "\n",
    "    a_list = [key for key, value in attack_dict.items() if attack_dict[key] == True]\n",
    "    a = df[df[41].isin(a_list)]\n",
    "    return a"
   ]
  },
  {
   "cell_type": "code",
   "execution_count": 34,
   "metadata": {
    "collapsed": true
   },
   "outputs": [],
   "source": [
    "acc_list = []\n",
    "train = encode(take_DoS(traindata))\n",
    "test = encode(take_DoS(testdata))\n",
    "acc_list.append(get_accuracy(train, test, GaussianNB()))\n",
    "\n",
    "train = encode(take_probe(traindata))\n",
    "test = encode(take_probe(testdata))\n",
    "acc_list.append(get_accuracy(train, test, GaussianNB()))\n",
    "\n",
    "train = encode(take_R2L(traindata))\n",
    "test = encode(take_R2L(testdata))\n",
    "acc_list.append(get_accuracy(train, test, GaussianNB()))\n",
    "\n",
    "train = encode(take_U2R(traindata))\n",
    "test = encode(take_U2R(testdata))\n",
    "acc_list.append(get_accuracy(train, test, GaussianNB()))"
   ]
  },
  {
   "cell_type": "code",
   "execution_count": 42,
   "metadata": {
    "collapsed": false
   },
   "outputs": [
    {
     "data": {
      "image/png": "[encoded data removed]",
      "text/plain": [
       "<matplotlib.figure.Figure at 0x1164ef828>"
      ]
     },
     "metadata": {
      "needs_background": "light"
     },
     "output_type": "display_data"
    }
   ],
   "source": [
    "ind = np.arange(len(acc_list))\n",
    "width = 0.35\n",
    "\n",
    "p1 = plt.bar(ind, acc_list, width)\n",
    "\n",
    "plt.ylabel('Accuracy Score')\n",
    "plt.title('Accuracy Score by Model Type')\n",
    "plt.xticks(ind, ('DoS', 'Probe', 'R2L', 'U2R'))\n",
    "plt.yticks(np.arange(0, max(acc_list) + 0.1, 0.1))\n",
    "\n",
    "plt.show()"
   ]
  },
  {
   "cell_type": "code",
   "execution_count": 51,
   "metadata": {
    "collapsed": false
   },
   "outputs": [],
   "source": [
    "# Attempt at making DoS better \n",
    "train = pd.read_csv(\"NSL-KDD/KDDTrain+.csv\", header=None)\n",
    "test = pd.read_csv(\"NSL-KDD/KDDTest+.csv\", header=None)\n",
    "data = pd.concat([train, test])"
   ]
  },
  {
   "cell_type": "code",
   "execution_count": 62,
   "metadata": {
    "collapsed": false
   },
   "outputs": [],
   "source": [
    "data = encode(data)\n",
    "X = data.iloc[:,0:41]\n",
    "Y = data.iloc[:,41]\n",
    "X_train, X_test, y_train, y_test = train_test_split(X, Y, test_size=0.33, random_state=7)"
   ]
  },
  {
   "cell_type": "code",
   "execution_count": 63,
   "metadata": {
    "collapsed": false
   },
   "outputs": [
    {
     "data": {
      "text/plain": [
       "XGBClassifier(base_score=0.5, booster='gbtree', colsample_bylevel=1,\n",
       "       colsample_bytree=1, gamma=0, learning_rate=0.1, max_delta_step=0,\n",
       "       max_depth=3, min_child_weight=1, missing=None, n_estimators=100,\n",
       "       n_jobs=1, nthread=None, objective='multi:softprob', random_state=0,\n",
       "       reg_alpha=0, reg_lambda=1, scale_pos_weight=1, seed=None,\n",
       "       silent=True, subsample=1)"
      ]
     },
     "execution_count": 63,
     "metadata": {},
     "output_type": "execute_result"
    }
   ],
   "source": [
    "model = XGBClassifier()\n",
    "model.fit(X_train, y_train)"
   ]
  },
  {
   "cell_type": "code",
   "execution_count": 64,
   "metadata": {
    "collapsed": false
   },
   "outputs": [
    {
     "name": "stdout",
     "output_type": "stream",
     "text": [
      "0.992185427761\n"
     ]
    }
   ],
   "source": [
    "y_pred = model.predict(X_test)\n",
    "predictions = [round(value) for value in y_pred]\n",
    "print(accuracy_score(y_test, predictions))"
   ]
  },
  {
   "cell_type": "markdown",
   "metadata": {},
   "source": [
    "## Conclusion\n",
    "* How did we evaluate our approach?\n",
    "* What are results?\n",
    "* How did we compare our method to other methods?\n",
    "* What is your major achievement?\n",
    "* Future work?"
   ]
  },
  {
   "cell_type": "code",
   "execution_count": null,
   "metadata": {
    "collapsed": true
   },
   "outputs": [],
   "source": []
  }
 ],
 "metadata": {
  "kernelspec": {
   "display_name": "Python 3",
   "language": "python",
   "name": "python3"
  },
  "language_info": {
   "codemirror_mode": {
    "name": "ipython",
    "version": 3
   },
   "file_extension": ".py",
   "mimetype": "text/x-python",
   "name": "python",
   "nbconvert_exporter": "python",
   "pygments_lexer": "ipython3",
   "version": "3.6.0"
  }
 },
 "nbformat": 4,
 "nbformat_minor": 1
}
