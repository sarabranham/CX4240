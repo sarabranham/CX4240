{
 "cells": [
  {
   "cell_type": "markdown",
   "metadata": {},
   "source": [
    "## Problem Background:\n",
    "* Machine learning techniques are a primary tool for analyzing network traffic and detecting cybersecurity attacks. Given that these cybersecurity attacks have become more sophisticated and distributed over the years due to our increasingly data driven society, network security has become a very significant issue. Military, government, and commercial operations as well as civilians are affected daily by cybersecurity vulnerabilities. The National Institute of Standards in Technology reported that in 2017, American companies lost 65.6 billion dollars from IT attacks [1]. Many companies have invested in automation techniques, but the security industry for the most part is dependent on costly handling of enormous datasets that is done by hand. Most of today’s machine-learning approaches rely on “anomaly detection,” which tends to trigger false positives that both create distrust of the system and end up having to be investigated by humans anyway [2]. Therefore, a solution for identifying malicious attacks through a more efficient, effective and lower cost method is greatly needed.\n",
    "\n",
    "## Dataset:\n",
    "* The dataset used for this project is the NSL-KDD dataset, which is an improved version of the KDD’99 data set that was used to build a predictive model capable of detecting “bad'” connections (intrusions) and “good'” or normal connections. The improved dataset does not include redundant records in the train set, so the classifiers will not be biased towards more frequent records. In addition, the number of records in the train and test sets are reasonable, making it more affordable to run the experiments on the complete set without the need to randomly select a small portion.The KDD training dataset consists of approximately 4,900,000 single connection vectors each of which contains 41 features and is labeled as either normal or as one of four attack types:\n",
    "    * Denial of Service Attack (DoS): the attacker makes some computing or memory resource too busy/full to handle legitimate requests or denies legitimate users access to a machine\n",
    "    * User to Root Attack (U2R): the attacker starts out with access to a normal user account on the system and exploits some vulnerability to gain root access to the system\n",
    "    * Remote to Local Attack (R2L): the attacker has the ability to send packets to a machine over a network but does not have an account on that machine and exploits some vulnerability to gain local access as a user of that machine\n",
    "    * Probing Attack: attempt to gather information about a network of computers for the purpose of circumventing security controls\n",
    "* The KDD dataset has three types of features:\n",
    "    * Basic features: all the attributes that can be extracted from a TCP/IP connection, most of which lead to an implicit delay in detection\n",
    "    * Trafﬁc features: features that are computed with respect to a window interval, divided into two groups:\n",
    "        * same host” features: examine only the connections in the past 2 seconds that have the same destination host as the current connection, also calculate statistics related to protocol behavior, service, etc.\n",
    "        * same service” features: examine only the connections in the past 2 seconds that have the same service as the current connection\n",
    "    * Content features: features to be able to look for suspicious behavior in the data portion of the packets (R2L and U2R), e.g., number of failed login attempts\n",
    "* How did we get it\n",
    "* Features / size / background\n",
    "\n",
    "## Approach\n",
    "* What have people already done?\n",
    "    * AI², which incorporates expert input in a system that combines supervised and unsupervised learning to detect 85% of attacks [2].\n",
    "    * Chowdhury, et al. displays network information as a graph and automatically identify botnet attack by using clustering algorithms.\n",
    "    \n",
    "* What is new in your approach?\n",
    "    * We will develop our project while holding an unbiased and purely educational perspective. Unlike many companies with a lot of stake in this issue, we are not at a major risk of malicious users trying to harm our systems. We plan to use the KDD Cup 1999 Dataset to implement a form of ensemble learning.\n",
    "\n",
    "* Why do you think you approach can effectively solve the problem?\n",
    "    * Our goal is purely specific to this data set, so we can take shortcuts without the world crashing down\n"
   ]
  },
  {
   "cell_type": "markdown",
   "metadata": {},
   "source": [
    "## Part 1: General\n",
    "Our goals for this section were to:\n",
    "1. Explore the dataset\n",
    "2. Establish a baseline for how well we can classify with minimal modifications"
   ]
  },
  {
   "cell_type": "code",
   "execution_count": 3,
   "metadata": {
    "collapsed": false
   },
   "outputs": [],
   "source": [
    "import pandas as pd\n",
    "import numpy as np\n",
    "from sklearn.naive_bayes import GaussianNB\n",
    "from sklearn.linear_model import LogisticRegression\n",
    "from sklearn.tree import DecisionTreeClassifier\n",
    "from sklearn.neighbors import KNeighborsClassifier\n",
    "from sklearn.ensemble import AdaBoostClassifier\n",
    "from sklearn.ensemble import RandomForestClassifier\n",
    "from sklearn import svm\n",
    "import sklearn\n",
    "from sklearn.preprocessing import Normalizer\n",
    "import matplotlib.pyplot as plt\n",
    "import seaborn as sns\n",
    "from sklearn.metrics import accuracy_score, mean_squared_error, mean_absolute_error \n",
    "#import xgboost as xgb"
   ]
  },
  {
   "cell_type": "code",
   "execution_count": 4,
   "metadata": {
    "collapsed": true
   },
   "outputs": [],
   "source": [
    "traindata = pd.read_csv('NSL-KDD/KDDTrain+.csv', header=None)"
   ]
  },
  {
   "cell_type": "code",
   "execution_count": 5,
   "metadata": {
    "collapsed": false
   },
   "outputs": [
    {
     "name": "stdout",
     "output_type": "stream",
     "text": [
      "['normal' 'neptune' 'warezclient' 'ipsweep' 'portsweep' 'teardrop' 'nmap'\n",
      " 'satan' 'smurf' 'pod' 'back' 'guess_passwd' 'ftp_write' 'multihop'\n",
      " 'rootkit' 'buffer_overflow' 'imap' 'warezmaster' 'phf' 'land' 'loadmodule'\n",
      " 'spy' 'perl']\n"
     ]
    },
    {
     "data": {
      "text/plain": [
       "<matplotlib.axes._subplots.AxesSubplot at 0x120421470>"
      ]
     },
     "execution_count": 5,
     "metadata": {},
     "output_type": "execute_result"
    },
    {
     "data": {
      "image/png": "[encoded data removed]",
      "text/plain": [
       "<matplotlib.figure.Figure at 0x115048cf8>"
      ]
     },
     "metadata": {
      "needs_background": "light"
     },
     "output_type": "display_data"
    }
   ],
   "source": [
    "print(traindata[41].unique())\n",
    "label_map = dict(zip(traindata[41].unique(), range(len(traindata[41].unique()))))\n",
    "a = traindata.replace(label_map)\n",
    "a[41].hist()"
   ]
  },
  {
   "cell_type": "code",
   "execution_count": 10,
   "metadata": {
    "collapsed": false
   },
   "outputs": [
    {
     "data": {
      "text/plain": [
       "<matplotlib.axes._subplots.AxesSubplot at 0x11e95b4a8>"
      ]
     },
     "execution_count": 10,
     "metadata": {},
     "output_type": "execute_result"
    },
    {
     "data": {
      "image/png": "[encoded data removed]",
      "text/plain": [
       "<matplotlib.figure.Figure at 0x11e961710>"
      ]
     },
     "metadata": {
      "needs_background": "light"
     },
     "output_type": "display_data"
    }
   ],
   "source": [
    "def simplify_label(df):\n",
    "    attack_dict = {\n",
    "        'normal': 'normal',\n",
    "\n",
    "        'back': 'DoS', 'land': 'DoS', 'neptune': 'DoS', 'pod': 'DoS', 'smurf': 'DoS', 'teardrop': 'DoS', \n",
    "        'mailbomb': 'DoS', 'apache2': 'DoS', 'processtable': 'DoS', 'udpstorm': 'DoS',\n",
    "\n",
    "        'ipsweep': 'Probe', 'nmap': 'Probe', 'portsweep': 'Probe', 'satan': 'Probe',\n",
    "        'mscan': 'Probe', 'saint': 'Probe',\n",
    "\n",
    "        'ftp_write': 'R2L', 'guess_passwd': 'R2L', 'imap': 'R2L', 'multihop': 'R2L', 'phf': 'R2L',\n",
    "        'spy': 'R2L', 'warezclient': 'R2L', 'warezmaster': 'R2L', 'sendmail': 'R2L', 'named': 'R2L',\n",
    "        'snmpgetattack': 'R2L', 'snmpguess': 'R2L', 'xlock': 'R2L', 'xsnoop': 'R2L', 'worm': 'R2L',\n",
    "\n",
    "        'buffer_overflow': 'U2R', 'loadmodule': 'U2R', 'perl': 'U2R', 'rootkit': 'U2R',\n",
    "        'httptunnel': 'U2R', 'ps': 'U2R', 'sqlattack': 'U2R','xterm': 'U2R'\n",
    "    }\n",
    "\n",
    "    attack_simp = {}\n",
    "    for a in df[41].unique():\n",
    "        if attack_dict[a] is not None:\n",
    "            attack_simp[a] = attack_dict[a]\n",
    "\n",
    "    df2 = df.replace(attack_simp)\n",
    "    label_map = dict(zip(df2[41].unique(), range(len(df2[41].unique()))))\n",
    "    df2 = df2.replace(label_map)\n",
    "    return df2\n",
    "\n",
    "    \n",
    "traindata = simplify_label(pd.read_csv('NSL-KDD/KDDTrain+.csv', header=None))\n",
    "testdata = simplify_label(pd.read_csv('NSL-KDD/KDDTest+.csv', header=None))\n",
    "traindata[41].hist()\n",
    "testdata[41].hist()"
   ]
  },
  {
   "cell_type": "code",
   "execution_count": 11,
   "metadata": {
    "collapsed": true
   },
   "outputs": [],
   "source": [
    "def encode(df):\n",
    "#     a = df.drop(42, axis=1)\n",
    "    a = df\n",
    "    protocol_map = dict(zip(df[1].unique(), range(len(df[1].unique()))))\n",
    "    service_map = dict(zip(df[2].unique(), range(len(df[2].unique()))))\n",
    "    flag_map = dict(zip(df[3].unique(), range(len(df[3].unique()))))\n",
    "    # replace the symbolic features\n",
    "    a = a.replace(flag_map)\n",
    "    a = a.replace(protocol_map)\n",
    "    a = a.replace(service_map)\n",
    "    # replace the labels (22 -> 5)\n",
    "    label_map = dict(zip(a[41].unique(), range(len(a[41].unique()))))\n",
    "    a = a.replace(label_map)\n",
    "    return a"
   ]
  },
  {
   "cell_type": "code",
   "execution_count": 12,
   "metadata": {
    "collapsed": false
   },
   "outputs": [],
   "source": [
    "def get_accuracy(train_set, test_set, model):  \n",
    "    X = train_set.iloc[:,0:41].join(train_set.iloc[:,42])\n",
    "    Y = train_set.iloc[:,41]\n",
    "    scaler = Normalizer().fit(X)\n",
    "    trainX = scaler.transform(X)\n",
    "    model.fit(X, Y)\n",
    "    Y_test = test_set.iloc[:,41]\n",
    "    X_test = test_set.iloc[:,0:41].join(test_set.iloc[:,42])\n",
    "    scaler = Normalizer().fit(X_test)\n",
    "    trainX = scaler.transform(X_test)\n",
    "    predicted = model.predict(X_test)\n",
    "    return accuracy_score(Y_test, predicted)"
   ]
  },
  {
   "cell_type": "code",
   "execution_count": 13,
   "metadata": {
    "collapsed": false
   },
   "outputs": [],
   "source": [
    "train = encode(traindata)\n",
    "test = encode(testdata)"
   ]
  },
  {
   "cell_type": "code",
   "execution_count": 14,
   "metadata": {
    "collapsed": false
   },
   "outputs": [],
   "source": [
    "models = [GaussianNB(), DecisionTreeClassifier(), KNeighborsClassifier(), \n",
    "          AdaBoostClassifier(n_estimators=50), AdaBoostClassifier(n_estimators=100), \n",
    "          AdaBoostClassifier(n_estimators=150), RandomForestClassifier(n_estimators=50),\n",
    "          RandomForestClassifier(n_estimators=100), RandomForestClassifier(n_estimators=150)]\n",
    "\n",
    "acc_list = []\n",
    "for m in models:\n",
    "    score = get_accuracy(train, test, m)\n",
    "    acc_list.append(score)"
   ]
  },
  {
   "cell_type": "code",
   "execution_count": 15,
   "metadata": {
    "collapsed": false
   },
   "outputs": [
    {
     "data": {
      "image/png": "[encoded data removed]",
      "text/plain": [
       "<matplotlib.figure.Figure at 0x117859d30>"
      ]
     },
     "metadata": {
      "needs_background": "light"
     },
     "output_type": "display_data"
    }
   ],
   "source": [
    "ind = np.arange(len(acc_list))    # the x locations for the groups\n",
    "width = 0.35       # the width of the bars: can also be len(x) sequence\n",
    "\n",
    "p1 = plt.bar(ind, acc_list, width)\n",
    "\n",
    "plt.ylabel('Accuracy Score')\n",
    "plt.title('Accuracy Score by Model Type')\n",
    "plt.xticks(ind, ('NB', 'D-Tree', 'KNN', 'AB50', 'AB100', 'AB150', 'RF50', 'RF100', 'RF150'))\n",
    "plt.yticks(np.arange(0, 0.4, 0.1))\n",
    "\n",
    "plt.show()\n",
    "# Note: best = 25%, about equivalent to random"
   ]
  },
  {
   "cell_type": "markdown",
   "metadata": {},
   "source": [
    "### Part 1 Takeaway:\n",
    "The AdaBoost classifier was slightly better than randomly selecting a label (25% vs. 20%), however the rest of our models are underperforming."
   ]
  },
  {
   "cell_type": "markdown",
   "metadata": {},
   "source": [
    "## Part 2: Specific\n",
    "* Exploring ways to simplify and boost the accuracy of our best model"
   ]
  },
  {
   "cell_type": "code",
   "execution_count": 16,
   "metadata": {
    "collapsed": false
   },
   "outputs": [],
   "source": [
    "# Isolate only DoS labels\n",
    "def take_DoS(df):\n",
    "    attack_dict = {}\n",
    "    for a in df[41].unique():\n",
    "        attack_dict[a] = False\n",
    "\n",
    "    attack_dict['normal'] = True\n",
    "    attack_dict['back'] = True\n",
    "    attack_dict['land'] = True\n",
    "    attack_dict['neptune'] = True\n",
    "    attack_dict['pod'] = True\n",
    "    attack_dict['smurf'] = True\n",
    "    attack_dict['teardrop'] = True\n",
    "    attack_dict['mailbomb'] = True\n",
    "    attack_dict['apache2'] = True\n",
    "    attack_dict['processtable'] = True\n",
    "    attack_dict['udpstorm'] = True    \n",
    "\n",
    "    a_list = [key for key, value in attack_dict.items() if attack_dict[key] == True]\n",
    "    a = df[df[41].isin(a_list)]\n",
    "    return a"
   ]
  },
  {
   "cell_type": "code",
   "execution_count": 82,
   "metadata": {
    "collapsed": false
   },
   "outputs": [
    {
     "data": {
      "text/plain": [
       "<matplotlib.axes._subplots.AxesSubplot at 0x117060940>"
      ]
     },
     "execution_count": 82,
     "metadata": {},
     "output_type": "execute_result"
    },
    {
     "data": {
      "image/png": "[encoded data removed]",
      "text/plain": [
       "<matplotlib.figure.Figure at 0x11699c470>"
      ]
     },
     "metadata": {
      "needs_background": "light"
     },
     "output_type": "display_data"
    }
   ],
   "source": [
    "traindata = pd.read_csv('NSL-KDD/KDDTrain+.csv', header=None)\n",
    "testdata = pd.read_csv('NSL-KDD/KDDTest+.csv', header=None)\n",
    "train = encode(take_DoS(traindata))\n",
    "test = encode(take_DoS(testdata))\n",
    "train[41].hist()\n",
    "test[41].hist()"
   ]
  },
  {
   "cell_type": "code",
   "execution_count": 83,
   "metadata": {
    "collapsed": false
   },
   "outputs": [
    {
     "data": {
      "text/plain": [
       "0.013455265610438024"
      ]
     },
     "execution_count": 83,
     "metadata": {},
     "output_type": "execute_result"
    }
   ],
   "source": [
    "get_accuracy(train, test, AdaBoostClassifier(n_estimators=100))\n",
    "# makes sense - 5 labels -> 11"
   ]
  },
  {
   "cell_type": "code",
   "execution_count": 90,
   "metadata": {
    "collapsed": true
   },
   "outputs": [],
   "source": [
    "# Convert to binary\n",
    "def make_binary(df):\n",
    "    binary_dict = {}\n",
    "    for label in df[41].unique():\n",
    "        binary_dict[label] = 0 if label == 'normal' else 1\n",
    "    a = df.replace(binary_dict)\n",
    "    return a"
   ]
  },
  {
   "cell_type": "code",
   "execution_count": 93,
   "metadata": {
    "collapsed": false
   },
   "outputs": [
    {
     "data": {
      "text/plain": [
       "<matplotlib.axes._subplots.AxesSubplot at 0x1213e15f8>"
      ]
     },
     "execution_count": 93,
     "metadata": {},
     "output_type": "execute_result"
    },
    {
     "data": {
      "image/png": "[encoded data removed]",
      "text/plain": [
       "<matplotlib.figure.Figure at 0x1213e1ac8>"
      ]
     },
     "metadata": {
      "needs_background": "light"
     },
     "output_type": "display_data"
    }
   ],
   "source": [
    "traindata = pd.read_csv('NSL-KDD/KDDTrain+.csv', header=None)\n",
    "testdata = pd.read_csv('NSL-KDD/KDDTest+.csv', header=None)\n",
    "train = encode(make_binary(traindata))\n",
    "test = encode(make_binary(testdata))\n",
    "train[41].hist()\n",
    "test[41].hist()"
   ]
  },
  {
   "cell_type": "code",
   "execution_count": 95,
   "metadata": {
    "collapsed": false
   },
   "outputs": [
    {
     "name": "stderr",
     "output_type": "stream",
     "text": [
      "/Library/Frameworks/Python.framework/Versions/3.6/lib/python3.6/site-packages/sklearn/linear_model/logistic.py:433: FutureWarning: Default solver will be changed to 'lbfgs' in 0.22. Specify a solver to silence this warning.\n",
      "  FutureWarning)\n"
     ]
    }
   ],
   "source": [
    "acc_list = []\n",
    "for m in models:\n",
    "    score = get_accuracy(train, test, m)\n",
    "    acc_list.append(score)"
   ]
  },
  {
   "cell_type": "code",
   "execution_count": 96,
   "metadata": {
    "collapsed": false
   },
   "outputs": [
    {
     "data": {
      "image/png": "[encoded data removed]",
      "text/plain": [
       "<matplotlib.figure.Figure at 0x12c919400>"
      ]
     },
     "metadata": {
      "needs_background": "light"
     },
     "output_type": "display_data"
    }
   ],
   "source": [
    "ind = np.arange(len(acc_list))    # the x locations for the groups\n",
    "width = 0.35       # the width of the bars: can also be len(x) sequence\n",
    "\n",
    "p1 = plt.bar(ind, acc_list, width)\n",
    "\n",
    "plt.ylabel('Accuracy Score')\n",
    "plt.title('Accuracy Score by Model Type')\n",
    "plt.xticks(ind, ('NB', 'D-Tree', 'KNN', 'AB50', 'AB100', 'AB150', 'RF50', 'RF100', 'RF150'))\n",
    "plt.yticks(np.arange(0, max(acc_list) + 0.5, 0.1))\n",
    "\n",
    "plt.show()"
   ]
  },
  {
   "cell_type": "code",
   "execution_count": 103,
   "metadata": {
    "collapsed": false
   },
   "outputs": [],
   "source": [
    "traindata = pd.read_csv('NSL-KDD/KDDTrain+.csv', header=None)\n",
    "testdata = pd.read_csv('NSL-KDD/KDDTest+.csv', header=None)\n",
    "train = encode(make_binary(take_DoS(traindata)))\n",
    "test = encode(make_binary(take_DoS(testdata)))\n",
    "score = get_accuracy(train, test, GaussianNB())"
   ]
  },
  {
   "cell_type": "code",
   "execution_count": 106,
   "metadata": {
    "collapsed": false
   },
   "outputs": [
    {
     "data": {
      "text/plain": [
       "0.37971808014911462"
      ]
     },
     "execution_count": 106,
     "metadata": {},
     "output_type": "execute_result"
    }
   ],
   "source": [
    "score\n"
   ]
  },
  {
   "cell_type": "markdown",
   "metadata": {},
   "source": [
    "## Conclusion\n",
    "* How did we evaluate our approach?\n",
    "* What are results?\n",
    "* How did we compare our method to other methods?\n",
    "* What is your major achievement?\n",
    "* Future work?"
   ]
  },
  {
   "cell_type": "code",
   "execution_count": null,
   "metadata": {
    "collapsed": true
   },
   "outputs": [],
   "source": []
  }
 ],
 "metadata": {
  "kernelspec": {
   "display_name": "Python 3",
   "language": "python",
   "name": "python3"
  },
  "language_info": {
   "codemirror_mode": {
    "name": "ipython",
    "version": 3
   },
   "file_extension": ".py",
   "mimetype": "text/x-python",
   "name": "python",
   "nbconvert_exporter": "python",
   "pygments_lexer": "ipython3",
   "version": "3.6.0"
  }
 },
 "nbformat": 4,
 "nbformat_minor": 1
}
