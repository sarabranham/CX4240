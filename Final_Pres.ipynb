{
 "cells": [
  {
   "cell_type": "markdown",
   "metadata": {},
   "source": [
    "## Problem Background:\n",
    "* What is it\n",
    "* Why do we care?\n",
    "\n",
    "## Dataset:\n",
    "* What is it\n",
    "* How did we get it\n",
    "* Features / size / background\n",
    "\n",
    "## Approach\n",
    "* What have people already done?\n",
    "    * AI², which incorporates expert input in a system that combines supervised and unsupervised learning to detect 85% of attacks [2].\n",
    "    * Chowdhury, et al. displays network information as a graph and automatically identify botnet attack by using clustering algorithms.\n",
    "    \n",
    "* What is new in your approach?\n",
    "    * We will develop our project while holding an unbiased and purely educational perspective. Unlike many companies with a lot of stake in this issue, we are not at a major risk of malicious users trying to harm our systems. We plan to use the KDD Cup 1999 Dataset to implement a form of ensemble learning.\n",
    "\n",
    "* Why do you think you approach can effectively solve the problem?\n",
    "    * Our goal is purely specific to this data set, so we can take shortcuts without the world crashing down\n"
   ]
  },
  {
   "cell_type": "markdown",
   "metadata": {},
   "source": [
    "### Part 1: General\n",
    "* FIGURES \n",
    "\n",
    "### Part 2: Specific\n",
    "* Figures\n"
   ]
  },
  {
   "cell_type": "markdown",
   "metadata": {},
   "source": [
    "## Conclusion\n",
    "* How did we evaluate our approach?\n",
    "* What are results?\n",
    "* How did we compare our method to other methods?\n",
    "* What is your major achievement?\n",
    "* Future work?"
   ]
  }
 ],
 "metadata": {
  "kernelspec": {
   "display_name": "Python 3",
   "language": "python",
   "name": "python3"
  },
  "language_info": {
   "codemirror_mode": {
    "name": "ipython",
    "version": 3
   },
   "file_extension": ".py",
   "mimetype": "text/x-python",
   "name": "python",
   "nbconvert_exporter": "python",
   "pygments_lexer": "ipython3",
   "version": "3.6.0"
  }
 },
 "nbformat": 4,
 "nbformat_minor": 1
}
